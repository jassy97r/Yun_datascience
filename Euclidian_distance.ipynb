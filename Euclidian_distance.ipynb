{
  "nbformat": 4,
  "nbformat_minor": 0,
  "metadata": {
    "colab": {
      "provenance": []
    },
    "kernelspec": {
      "name": "python3",
      "display_name": "Python 3"
    },
    "language_info": {
      "name": "python"
    }
  },
  "cells": [
    {
      "cell_type": "code",
      "source": [
        "import pandas as pd\n",
        "import numpy as np\n",
        "from scipy.spatial.distance import cdist\n",
        "\n",
        "# Sample DataFrame\n",
        "data = {\n",
        "    \"x\": [0.1, 0.4, 1.0, 1.1, 1.5, 2.0],\n",
        "    \"y\": [0.2, 0.5, 1.1, 1.0, 1.6, 2.1]\n",
        "}\n",
        "df = pd.DataFrame(data)\n",
        "\n",
        "# Compute the pairwise distances\n",
        "coordinates = df[['x', 'y']].to_numpy()\n",
        "distance_matrix = cdist(coordinates, coordinates)\n",
        "\n",
        "# Create groups based on 0.5 distance threshold\n",
        "threshold = 0.5\n",
        "group_labels = (distance_matrix < threshold).astype(int)\n",
        "\n",
        "# Assign groups using a unique identifier for connected components\n",
        "from scipy.sparse.csgraph import connected_components\n",
        "from scipy.sparse import csr_matrix\n",
        "\n",
        "graph = csr_matrix(group_labels)\n",
        "n_components, labels = connected_components(csgraph=graph, directed=False)\n",
        "\n",
        "# Add the group labels to the DataFrame\n",
        "df['group'] = labels\n",
        "\n",
        "print(df)\n"
      ],
      "metadata": {
        "colab": {
          "base_uri": "https://localhost:8080/"
        },
        "id": "JF-Ivr5gE6SY",
        "outputId": "d3d45799-96f6-402a-9353-d14ddc465328"
      },
      "execution_count": 2,
      "outputs": [
        {
          "output_type": "stream",
          "name": "stdout",
          "text": [
            "     x    y  group\n",
            "0  0.1  0.2      0\n",
            "1  0.4  0.5      0\n",
            "2  1.0  1.1      1\n",
            "3  1.1  1.0      1\n",
            "4  1.5  1.6      2\n",
            "5  2.0  2.1      3\n"
          ]
        }
      ]
    },
    {
      "cell_type": "code",
      "execution_count": null,
      "metadata": {
        "id": "GztyEFbREES_"
      },
      "outputs": [],
      "source": []
    }
  ]
}